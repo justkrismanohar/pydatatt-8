{
 "cells": [
  {
   "cell_type": "markdown",
   "metadata": {
    "gradient": {
     "editing": false
    }
   },
   "source": [
    "# Dataset\n",
    "https://www.kaggle.com/zygmunt/goodbooks-10k"
   ]
  },
  {
   "cell_type": "code",
   "execution_count": 1,
   "metadata": {
    "gradient": {
     "editing": false
    }
   },
   "outputs": [],
   "source": [
    "import numpy as np\n",
    "import pandas as pd\n",
    "import matplotlib.pyplot as plt\n",
    "%matplotlib inline"
   ]
  },
  {
   "cell_type": "markdown",
   "metadata": {
    "gradient": {
     "editing": false
    }
   },
   "source": [
    "## Load data"
   ]
  },
  {
   "cell_type": "code",
   "execution_count": 2,
   "metadata": {
    "gradient": {
     "editing": false
    }
   },
   "outputs": [
    {
     "data": {
      "text/html": [
       "<div>\n",
       "<style scoped>\n",
       "    .dataframe tbody tr th:only-of-type {\n",
       "        vertical-align: middle;\n",
       "    }\n",
       "\n",
       "    .dataframe tbody tr th {\n",
       "        vertical-align: top;\n",
       "    }\n",
       "\n",
       "    .dataframe thead th {\n",
       "        text-align: right;\n",
       "    }\n",
       "</style>\n",
       "<table border=\"1\" class=\"dataframe\">\n",
       "  <thead>\n",
       "    <tr style=\"text-align: right;\">\n",
       "      <th></th>\n",
       "      <th>book_id</th>\n",
       "      <th>user_id</th>\n",
       "      <th>rating</th>\n",
       "    </tr>\n",
       "  </thead>\n",
       "  <tbody>\n",
       "    <tr>\n",
       "      <th>0</th>\n",
       "      <td>1</td>\n",
       "      <td>314</td>\n",
       "      <td>5</td>\n",
       "    </tr>\n",
       "    <tr>\n",
       "      <th>1</th>\n",
       "      <td>1</td>\n",
       "      <td>439</td>\n",
       "      <td>3</td>\n",
       "    </tr>\n",
       "    <tr>\n",
       "      <th>2</th>\n",
       "      <td>1</td>\n",
       "      <td>588</td>\n",
       "      <td>5</td>\n",
       "    </tr>\n",
       "    <tr>\n",
       "      <th>3</th>\n",
       "      <td>1</td>\n",
       "      <td>1169</td>\n",
       "      <td>4</td>\n",
       "    </tr>\n",
       "    <tr>\n",
       "      <th>4</th>\n",
       "      <td>1</td>\n",
       "      <td>1185</td>\n",
       "      <td>4</td>\n",
       "    </tr>\n",
       "    <tr>\n",
       "      <th>5</th>\n",
       "      <td>1</td>\n",
       "      <td>2077</td>\n",
       "      <td>4</td>\n",
       "    </tr>\n",
       "    <tr>\n",
       "      <th>6</th>\n",
       "      <td>1</td>\n",
       "      <td>2487</td>\n",
       "      <td>4</td>\n",
       "    </tr>\n",
       "    <tr>\n",
       "      <th>7</th>\n",
       "      <td>1</td>\n",
       "      <td>2900</td>\n",
       "      <td>5</td>\n",
       "    </tr>\n",
       "    <tr>\n",
       "      <th>8</th>\n",
       "      <td>1</td>\n",
       "      <td>3662</td>\n",
       "      <td>4</td>\n",
       "    </tr>\n",
       "    <tr>\n",
       "      <th>9</th>\n",
       "      <td>1</td>\n",
       "      <td>3922</td>\n",
       "      <td>5</td>\n",
       "    </tr>\n",
       "  </tbody>\n",
       "</table>\n",
       "</div>"
      ],
      "text/plain": [
       "   book_id  user_id  rating\n",
       "0        1      314       5\n",
       "1        1      439       3\n",
       "2        1      588       5\n",
       "3        1     1169       4\n",
       "4        1     1185       4\n",
       "5        1     2077       4\n",
       "6        1     2487       4\n",
       "7        1     2900       5\n",
       "8        1     3662       4\n",
       "9        1     3922       5"
      ]
     },
     "execution_count": 2,
     "metadata": {},
     "output_type": "execute_result"
    }
   ],
   "source": [
    "ratings_data = pd.read_csv('./data/ratings.csv')\n",
    "books_metadata = pd.read_csv('./data/books.csv')\n",
    "ratings_data.head(10)"
   ]
  },
  {
   "cell_type": "markdown",
   "metadata": {
    "gradient": {
     "editing": false
    }
   },
   "source": [
    "# Create the surprise dataset\n",
    "The framework expects a Dataset object with three feilds: userIDs, itemIDs, and rating\\\n",
    "Can load the dataset object from directly from the pandas dataframe, or from a csv\\\n",
    "A Reader class is used to parse the Dataset (each line (userID, itemID, rating)\n",
    "\n"
   ]
  },
  {
   "cell_type": "code",
   "execution_count": 3,
   "metadata": {
    "gradient": {
     "editing": false
    }
   },
   "outputs": [],
   "source": [
    "try:\n",
    "    from surprise import Dataset\n",
    "except ImportError:\n",
    "    !conda install -c conda-forge scikit-surprise -y\n",
    "    from surprise import Dataset\n",
    "\n",
    "from surprise import Reader\n",
    "\n",
    "reader = Reader(rating_scale=(1, 5)) #Can change scale based on your requirements\n",
    "\n",
    "#The order of the data is important, must be user, item, user's rating for the item\n",
    "data = Dataset.load_from_df(ratings_data[['user_id', 'book_id', 'rating']], reader) "
   ]
  },
  {
   "cell_type": "markdown",
   "metadata": {
    "gradient": {
     "editing": false
    }
   },
   "source": [
    "# Train the model\n",
    "Suprise supports several recommender system algorithms\\\n",
    "See https://surprise.readthedocs.io/en/stable/prediction_algorithms_package.html \\\n",
    "The details have been abstracted away, so executing different algorithms is a simple as creating new classes\\\n",
    "<code> for algorithm in [SVD(),KNNBasic(),KNNWithMeans(),KNNWithZScore(), CoClustering(), SlopeOne(), SVDpp(), BaselineOnly()]:\\\n",
    "    #do stuff here using the Surprise algorithm API\n",
    "</code>"
   ]
  },
  {
   "cell_type": "code",
   "execution_count": 4,
   "metadata": {
    "gradient": {},
    "scrolled": true
   },
   "outputs": [
    {
     "name": "stdout",
     "output_type": "stream",
     "text": [
      "Processing epoch 0\n",
      "Processing epoch 1\n",
      "Processing epoch 2\n",
      "Processing epoch 0\n",
      "Processing epoch 1\n",
      "Processing epoch 2\n",
      "Processing epoch 0\n",
      "Processing epoch 1\n",
      "Processing epoch 2\n",
      "Evaluating RMSE, MAE of algorithm SVD on 3 split(s).\n",
      "\n",
      "                  Fold 1  Fold 2  Fold 3  Mean    Std     \n",
      "RMSE (testset)    0.8898  0.8877  0.8887  0.8887  0.0009  \n",
      "MAE (testset)     0.7098  0.7086  0.7090  0.7091  0.0005  \n",
      "Fit time          7.06    7.71    7.67    7.48    0.30    \n",
      "Test time         4.50    4.29    4.11    4.30    0.16    \n"
     ]
    },
    {
     "data": {
      "text/plain": [
       "{'test_rmse': array([0.88977336, 0.88766441, 0.88873584]),\n",
       " 'test_mae': array([0.70977587, 0.7086191 , 0.70903517]),\n",
       " 'fit_time': (7.056204319000244, 7.707362413406372, 7.6737446784973145),\n",
       " 'test_time': (4.503728151321411, 4.287333011627197, 4.109003067016602)}"
      ]
     },
     "execution_count": 4,
     "metadata": {},
     "output_type": "execute_result"
    }
   ],
   "source": [
    "from surprise import SVD\n",
    "from surprise.model_selection import cross_validate\n",
    "\n",
    "svd = SVD(verbose=True, n_epochs=3) \n",
    "cross_validate(svd, data, measures=['RMSE', 'MAE'], cv=3, verbose=True) #Auto-magic cross validation....NOICE!!!"
   ]
  },
  {
   "cell_type": "markdown",
   "metadata": {},
   "source": [
    "# Ready to predict\n",
    "Now that we are satisfied with the prediction accuracy we can use the full dataset to make predictions"
   ]
  },
  {
   "cell_type": "code",
   "execution_count": 5,
   "metadata": {
    "gradient": {}
   },
   "outputs": [
    {
     "name": "stdout",
     "output_type": "stream",
     "text": [
      "Processing epoch 0\n",
      "Processing epoch 1\n",
      "Processing epoch 2\n"
     ]
    },
    {
     "data": {
      "text/plain": [
       "<surprise.prediction_algorithms.matrix_factorization.SVD at 0x7f2148938c70>"
      ]
     },
     "execution_count": 5,
     "metadata": {},
     "output_type": "execute_result"
    }
   ],
   "source": [
    "trainset = data.build_full_trainset() #Prepare all the data we have for training\n",
    "\n",
    "svd.fit(trainset) #Train the model"
   ]
  },
  {
   "cell_type": "markdown",
   "metadata": {},
   "source": [
    "# Make some predictions\n",
    "\n",
    "Call the <code>.predict</code> method\\\n",
    "The <code>est</code> value is the ratings prediction for the query"
   ]
  },
  {
   "cell_type": "code",
   "execution_count": 7,
   "metadata": {
    "gradient": {}
   },
   "outputs": [
    {
     "data": {
      "text/plain": [
       "Prediction(uid=10, iid=100, r_ui=None, est=3.8870123194261397, details={'was_impossible': False})"
      ]
     },
     "execution_count": 7,
     "metadata": {},
     "output_type": "execute_result"
    }
   ],
   "source": [
    "svd.predict(uid=10, iid=100)"
   ]
  },
  {
   "cell_type": "markdown",
   "metadata": {},
   "source": [
    "## User and item mappings\n",
    "Surprise refers to the user and item IDs provided in the data set as <code>raw user</code> and <code>raw item</code> IDs\\\n",
    "There are some useful functions for converting between <code>internal</code> and <code>raw</code> user IDs\\\n",
    "<code>.trainset.to_raw_uid\\\n",
    ".trainset.to_raw_iid\\\n",
    ".trainset.to_inner_uid\\\n",
    ".trainset.to_inner_iid\n",
    "</code>"
   ]
  },
  {
   "cell_type": "code",
   "execution_count": 8,
   "metadata": {
    "gradient": {}
   },
   "outputs": [
    {
     "data": {
      "text/plain": [
       "5379"
      ]
     },
     "execution_count": 8,
     "metadata": {},
     "output_type": "execute_result"
    }
   ],
   "source": [
    "trainset.to_raw_uid(10)"
   ]
  },
  {
   "cell_type": "code",
   "execution_count": 9,
   "metadata": {
    "gradient": {}
   },
   "outputs": [
    {
     "data": {
      "text/plain": [
       "101"
      ]
     },
     "execution_count": 9,
     "metadata": {},
     "output_type": "execute_result"
    }
   ],
   "source": [
    "trainset.to_raw_iid(100)"
   ]
  },
  {
   "cell_type": "markdown",
   "metadata": {},
   "source": [
    "## Custom predicitons\n",
    "Can go under the hood of the SVD and use the user and item embeddings, and biases to make custom predictions\\\n",
    "Suprise has some useful functions from the uid an item to user and item mappings respectively\\\n",
    "\n",
    "To demonstrate making a custom predciton, we can define a dot product prediciton\\"
   ]
  },
  {
   "cell_type": "code",
   "execution_count": 10,
   "metadata": {
    "gradient": {}
   },
   "outputs": [
    {
     "name": "stdout",
     "output_type": "stream",
     "text": [
      "10 100\n"
     ]
    }
   ],
   "source": [
    "user = 5379 #Surprise preserves the type of the raw user and item embeddings\n",
    "item = 101\n",
    "\n",
    "uid = trainset.to_inner_uid(user) #map the raw user ID to the internal uid\n",
    "iid = trainset.to_inner_iid(item)  #map the raw item ID to the internal iid \n",
    "print(uid, iid)\n"
   ]
  },
  {
   "cell_type": "code",
   "execution_count": 11,
   "metadata": {
    "gradient": {}
   },
   "outputs": [
    {
     "name": "stdout",
     "output_type": "stream",
     "text": [
      "[-0.04359509 -0.09204349 -0.093612   -0.01658127  0.06962907 -0.15567284\n",
      " -0.02952315 -0.14161182 -0.09841204  0.00904953 -0.05779087 -0.02953855\n",
      "  0.09129887  0.0326396  -0.06582377  0.16631687 -0.07839788  0.09137723\n",
      " -0.03481    -0.12541538  0.04574812 -0.06807655  0.06837357  0.08166956\n",
      " -0.11127101  0.01546851 -0.17154329 -0.09146493  0.02771905  0.04835724\n",
      "  0.08189842 -0.05858128  0.18992326  0.10535358  0.08080988  0.08979732\n",
      " -0.07059684 -0.01789224 -0.04214804  0.06134328 -0.16475552 -0.07077482\n",
      "  0.21788742 -0.083333    0.02714778 -0.02651905  0.04181547 -0.01907267\n",
      " -0.00780944 -0.04238715 -0.07333258 -0.00318903  0.00631478 -0.27643375\n",
      " -0.09444518 -0.00777795 -0.04930344 -0.03966269 -0.17194925  0.04766953\n",
      "  0.14830174  0.04025439  0.06597677  0.25616563  0.0391612  -0.07472876\n",
      "  0.07340879 -0.06016934 -0.08679573 -0.05311435  0.04958604 -0.0161306\n",
      "  0.08497214 -0.05302005 -0.11700575 -0.07891167 -0.12127615  0.05781533\n",
      "  0.08123776  0.03904038 -0.1057517  -0.02942429  0.08314614  0.00886343\n",
      "  0.02173393 -0.08099073 -0.0447783  -0.02921889  0.05217633  0.06156015\n",
      "  0.04186588 -0.09805761  0.04050976 -0.11626269 -0.09072805  0.16812281\n",
      " -0.0702996  -0.06369908  0.02911669  0.06806988]\n"
     ]
    }
   ],
   "source": [
    "uvector = svd.pu[uid] #extract the user embedding\n",
    "print(uvector)"
   ]
  },
  {
   "cell_type": "code",
   "execution_count": 12,
   "metadata": {
    "gradient": {},
    "scrolled": true
   },
   "outputs": [
    {
     "name": "stdout",
     "output_type": "stream",
     "text": [
      "[-0.0613442   0.18020941 -0.03727923 -0.04073174  0.17539209 -0.01411787\n",
      "  0.04776542  0.19474819  0.32823774 -0.07860561  0.00722265 -0.18498294\n",
      "  0.0288283  -0.01977797 -0.0117363   0.02034766  0.11230405 -0.06430811\n",
      "  0.10172178 -0.00909409  0.07358057 -0.09509257  0.04821051  0.06487116\n",
      "  0.04127878 -0.13465126 -0.1837986  -0.09306715  0.03550737 -0.11089367\n",
      "  0.11246511 -0.09364572 -0.11336519 -0.08142238  0.02841446  0.09061202\n",
      "  0.18937792  0.02317409  0.06869623  0.03303629 -0.07476576 -0.11921036\n",
      "  0.09619974 -0.00215544  0.04830497  0.13876177 -0.16543141 -0.0732465\n",
      "  0.07362238  0.23579607 -0.1536954  -0.09112581 -0.14792187 -0.16961425\n",
      "  0.03676392 -0.04796331  0.09594699  0.09024747  0.08289047 -0.00153326\n",
      " -0.17349679 -0.1310743   0.00585269  0.10474739  0.04353726  0.10631792\n",
      " -0.08606463 -0.06196225 -0.04327081  0.19666438  0.0179961   0.0659792\n",
      "  0.0347804  -0.13913764 -0.08914445 -0.07444772  0.01475166  0.08771635\n",
      "  0.02679021 -0.09124956 -0.00434249  0.1351138   0.00936203 -0.16383496\n",
      "  0.00512736 -0.06223064 -0.17775354  0.07349076  0.0176412  -0.04721516\n",
      "  0.01198343  0.091407    0.09013296 -0.10722159 -0.10070467 -0.09074864\n",
      " -0.07983993  0.17785203  0.13132392  0.25955981]\n"
     ]
    }
   ],
   "source": [
    "ivector = svd.qi[iid] #extract the user embedding \n",
    "print(ivector)"
   ]
  },
  {
   "cell_type": "code",
   "execution_count": 13,
   "metadata": {
    "gradient": {}
   },
   "outputs": [
    {
     "name": "stdout",
     "output_type": "stream",
     "text": [
      "0.08420910496802402\n"
     ]
    }
   ],
   "source": [
    "ubias = svd.bu[uid] #user bias \n",
    "print(ubias)"
   ]
  },
  {
   "cell_type": "code",
   "execution_count": 14,
   "metadata": {
    "gradient": {}
   },
   "outputs": [
    {
     "name": "stdout",
     "output_type": "stream",
     "text": [
      "0.04968198274942113\n"
     ]
    }
   ],
   "source": [
    "ibias = svd.bi[iid] #item bias\n",
    "print(ibias)"
   ]
  },
  {
   "cell_type": "code",
   "execution_count": 15,
   "metadata": {
    "gradient": {}
   },
   "outputs": [
    {
     "name": "stdout",
     "output_type": "stream",
     "text": [
      "3.8565335989797873\n"
     ]
    }
   ],
   "source": [
    "global_mean = svd.trainset.global_mean #Think of this as 'zero' i.e., normalized data\n",
    "print(global_mean)"
   ]
  },
  {
   "cell_type": "code",
   "execution_count": 16,
   "metadata": {
    "gradient": {}
   },
   "outputs": [
    {
     "name": "stdout",
     "output_type": "stream",
     "text": [
      "4.041352244631293\n"
     ]
    }
   ],
   "source": [
    "dp = np.dot(uvector,ivector)\n",
    "est = global_mean + ubias + ibias + dp\n",
    "print(est)"
   ]
  },
  {
   "cell_type": "markdown",
   "metadata": {},
   "source": [
    "# Custom recommendations"
   ]
  },
  {
   "cell_type": "markdown",
   "metadata": {},
   "source": [
    "### Define some helper methods"
   ]
  },
  {
   "cell_type": "code",
   "execution_count": 17,
   "metadata": {
    "gradient": {}
   },
   "outputs": [],
   "source": [
    "import difflib\n",
    "import random\n",
    "\n",
    "def get_book_id(book_title, metadata):\n",
    "    \n",
    "    \"\"\"\n",
    "    Gets the book ID for a book title based on the closest match in the metadata dataframe.\n",
    "    \"\"\"\n",
    "    \n",
    "    existing_titles = list(metadata['title'].values)\n",
    "    closest_titles = difflib.get_close_matches(book_title, existing_titles) #Returns the titles that are similar \n",
    "    \n",
    "    #Assuming the book title is in the dataset, it must be the cloeset match\n",
    "    book_id = metadata[metadata['title'] == closest_titles[0]]['id'].values[0] \n",
    "    return book_id\n",
    "\n",
    "def get_book_info(book_id, metadata):\n",
    "    \n",
    "    \"\"\"\n",
    "    Returns some basic information about a book given the book id and the metadata dataframe.\n",
    "    \"\"\"\n",
    "    \n",
    "    book_info = metadata[metadata['id'] == book_id][['id', 'isbn', \n",
    "                                                    'authors', 'title', 'original_title']]\n",
    "    return book_info.to_dict(orient='records')\n",
    "\n",
    "def predict_review(user_id, book_title, model, metadata):\n",
    "    \n",
    "    \"\"\"\n",
    "    Predicts the review (on a scale of 1-5) that a user would assign to a specific book. \n",
    "    \"\"\"\n",
    "    \n",
    "    book_id = get_book_id(book_title, metadata)\n",
    "    review_prediction = model.predict(uid=user_id, iid=book_id)\n",
    "    return review_prediction.est"
   ]
  },
  {
   "cell_type": "markdown",
   "metadata": {},
   "source": [
    "Custom recommendation: Return the first book that the use would rate >= 4"
   ]
  },
  {
   "cell_type": "code",
   "execution_count": 18,
   "metadata": {
    "gradient": {}
   },
   "outputs": [],
   "source": [
    "def generate_recommendation(user_id, model, metadata, thresh=4):\n",
    "    \n",
    "    \"\"\"\n",
    "    Generates a book recommendation for a user based on a rating threshold. Only\n",
    "    books with a predicted rating at or above the threshold will be recommended\n",
    "    \"\"\"\n",
    "    \n",
    "    book_titles = list(metadata['title'].values)\n",
    "    random.shuffle(book_titles)\n",
    "    \n",
    "    for book_title in book_titles:\n",
    "        rating = predict_review(user_id, book_title, model, metadata)\n",
    "        if rating >= thresh:\n",
    "            book_id = get_book_id(book_title, metadata)\n",
    "            return get_book_info(book_id, metadata)\n"
   ]
  },
  {
   "cell_type": "code",
   "execution_count": 19,
   "metadata": {
    "gradient": {},
    "scrolled": true
   },
   "outputs": [
    {
     "data": {
      "text/plain": [
       "[{'id': 1224,\n",
       "  'isbn': '375708111',\n",
       "  'authors': 'Brian Greene',\n",
       "  'title': 'The Elegant Universe: Superstrings, Hidden Dimensions, and the Quest for the Ultimate Theory',\n",
       "  'original_title': 'The Elegant Universe: Superstrings, Hidden Dimensions, and the Quest for the Ultimate Theory'}]"
      ]
     },
     "execution_count": 19,
     "metadata": {},
     "output_type": "execute_result"
    }
   ],
   "source": [
    "generate_recommendation(1000, svd, books_metadata)"
   ]
  },
  {
   "cell_type": "markdown",
   "metadata": {},
   "source": [
    "Find the top k recommendations\\\n",
    "The following runs a bit slow since it is an exhaustive search\n",
    "It can be optimipzied, for each user based on pre-computed user and item embeddings\\\n",
    "Once the raiting information is not updated, the user-item embeddings will be the same"
   ]
  },
  {
   "cell_type": "code",
   "execution_count": 20,
   "metadata": {
    "gradient": {}
   },
   "outputs": [],
   "source": [
    "def generate_recommendation_top_k(user_id, model, metadata, thresh=4, k=5):\n",
    "    \n",
    "    \"\"\"\n",
    "    Generates a book recommendation for a user based on a rating threshold. Only\n",
    "    the top k books with a predicted rating at or above the threshold will be recommended\n",
    "    \"\"\"\n",
    "    \n",
    "    book_titles = list(metadata['title'].values)\n",
    "    random.shuffle(book_titles)\n",
    "    \n",
    "    recommendations = []\n",
    "    \n",
    "    for book_title in book_titles:\n",
    "        rating = predict_review(user_id, book_title, model, metadata)\n",
    "        if rating >= thresh:\n",
    "            book_id = get_book_id(book_title, metadata)\n",
    "            recommendations.append(get_book_info(book_id, metadata)[0])\n",
    "            if len(recommendations) == k:\n",
    "                return recommendations\n",
    "            \n",
    "    return recommendations"
   ]
  },
  {
   "cell_type": "code",
   "execution_count": 21,
   "metadata": {
    "gradient": {}
   },
   "outputs": [
    {
     "data": {
      "text/plain": [
       "[{'id': 9096,\n",
       "  'isbn': '1595540547',\n",
       "  'authors': 'Charles Martin',\n",
       "  'title': 'When Crickets Cry',\n",
       "  'original_title': 'When Crickets Cry'},\n",
       " {'id': 8924,\n",
       "  'isbn': '067088278X',\n",
       "  'authors': 'Janet Ahlberg, Allan Ahlberg',\n",
       "  'title': 'Each Peach Pear Plum',\n",
       "  'original_title': 'Each Peach Pear Plum'},\n",
       " {'id': 189,\n",
       "  'isbn': '618640150',\n",
       "  'authors': 'J.R.R. Tolkien',\n",
       "  'title': 'The Lord of the Rings (The Lord of the Rings, #1-3)',\n",
       "  'original_title': 'The Lord of the Rings'},\n",
       " {'id': 7283,\n",
       "  'isbn': '64400964',\n",
       "  'authors': 'Maud Hart Lovelace, Lois Lenski',\n",
       "  'title': 'Betsy-Tacy (Betsy-Tacy, #1)',\n",
       "  'original_title': 'Betsy-Tacy'},\n",
       " {'id': 4475,\n",
       "  'isbn': '571203132',\n",
       "  'authors': 'Nikos Kazantzakis, Νίκος Καζαντζάκης',\n",
       "  'title': 'Zorba the Greek',\n",
       "  'original_title': 'Βίος και πολιτεία του Αλέξη Ζορμπά'}]"
      ]
     },
     "execution_count": 21,
     "metadata": {},
     "output_type": "execute_result"
    }
   ],
   "source": [
    "generate_recommendation_top_k(1000, svd, books_metadata)"
   ]
  },
  {
   "cell_type": "markdown",
   "metadata": {},
   "source": [
    "# Custom algorithm\n",
    "https://surprise.readthedocs.io/en/stable/building_custom_algo.html"
   ]
  },
  {
   "cell_type": "markdown",
   "metadata": {},
   "source": [
    "Extend the AlgoBase class\\\n",
    "Provide implementatios for the <code>fit</code> and <code>estimate</code> methods\\\n",
    "General rule, where applicable, call the parent method before providing custom implementations"
   ]
  },
  {
   "cell_type": "code",
   "execution_count": 22,
   "metadata": {
    "gradient": {}
   },
   "outputs": [],
   "source": [
    "from surprise import AlgoBase\n",
    "from surprise import Dataset\n",
    "from surprise.model_selection import cross_validate\n",
    "\n",
    "class MyOwnAlgorithm(AlgoBase):\n",
    "\n",
    "    def __init__(self):\n",
    "\n",
    "        # Always call base method before doing anything.\n",
    "        AlgoBase.__init__(self)\n",
    "\n",
    "    def fit(self, trainset):\n",
    "\n",
    "        # Here again: call base method before doing anything.\n",
    "        AlgoBase.fit(self, trainset)\n",
    "\n",
    "        # Compute the average rating. We might as well use the\n",
    "        # trainset.global_mean attribute ;)\n",
    "        self.the_mean = np.mean([r for (_, _, r) in\n",
    "                                 self.trainset.all_ratings()])\n",
    "\n",
    "        return self\n",
    "\n",
    "    def estimate(self, u, i):\n",
    "\n",
    "        return self.the_mean"
   ]
  },
  {
   "cell_type": "code",
   "execution_count": 23,
   "metadata": {
    "gradient": {}
   },
   "outputs": [
    {
     "name": "stdout",
     "output_type": "stream",
     "text": [
      "Evaluating RMSE, MAE of algorithm MyOwnAlgorithm on 5 split(s).\n",
      "\n",
      "                  Fold 1  Fold 2  Fold 3  Fold 4  Fold 5  Mean    Std     \n",
      "RMSE (testset)    0.9838  0.9855  0.9851  0.9838  0.9816  0.9839  0.0014  \n",
      "MAE (testset)     0.7863  0.7881  0.7874  0.7875  0.7851  0.7869  0.0010  \n",
      "Fit time          0.52    1.22    1.27    1.26    1.24    1.10    0.29    \n",
      "Test time         1.70    2.25    1.78    2.27    2.26    2.05    0.26    \n"
     ]
    },
    {
     "data": {
      "text/plain": [
       "{'test_rmse': array([0.98376972, 0.98547785, 0.9850672 , 0.98383845, 0.98155107]),\n",
       " 'test_mae': array([0.78631431, 0.7880795 , 0.78738093, 0.78750004, 0.78511995]),\n",
       " 'fit_time': (0.5243387222290039,\n",
       "  1.2246849536895752,\n",
       "  1.2693052291870117,\n",
       "  1.2638347148895264,\n",
       "  1.2415225505828857),\n",
       " 'test_time': (1.6957714557647705,\n",
       "  2.253708839416504,\n",
       "  1.7781527042388916,\n",
       "  2.2743003368377686,\n",
       "  2.2574896812438965)}"
      ]
     },
     "execution_count": 23,
     "metadata": {},
     "output_type": "execute_result"
    }
   ],
   "source": [
    "algo = MyOwnAlgorithm()\n",
    "cross_validate(algo, data, verbose=True)"
   ]
  },
  {
   "cell_type": "code",
   "execution_count": 24,
   "metadata": {
    "gradient": {}
   },
   "outputs": [
    {
     "data": {
      "text/html": [
       "<div>\n",
       "<style scoped>\n",
       "    .dataframe tbody tr th:only-of-type {\n",
       "        vertical-align: middle;\n",
       "    }\n",
       "\n",
       "    .dataframe tbody tr th {\n",
       "        vertical-align: top;\n",
       "    }\n",
       "\n",
       "    .dataframe thead th {\n",
       "        text-align: right;\n",
       "    }\n",
       "</style>\n",
       "<table border=\"1\" class=\"dataframe\">\n",
       "  <thead>\n",
       "    <tr style=\"text-align: right;\">\n",
       "      <th></th>\n",
       "      <th>test_rmse</th>\n",
       "      <th>fit_time</th>\n",
       "      <th>test_time</th>\n",
       "    </tr>\n",
       "    <tr>\n",
       "      <th>Algorithm</th>\n",
       "      <th></th>\n",
       "      <th></th>\n",
       "      <th></th>\n",
       "    </tr>\n",
       "  </thead>\n",
       "  <tbody>\n",
       "    <tr>\n",
       "      <th>SVD</th>\n",
       "      <td>0.857140</td>\n",
       "      <td>32.749216</td>\n",
       "      <td>6.896137</td>\n",
       "    </tr>\n",
       "    <tr>\n",
       "      <th>MyOwnAlgorithm</th>\n",
       "      <td>0.983942</td>\n",
       "      <td>0.554503</td>\n",
       "      <td>4.488219</td>\n",
       "    </tr>\n",
       "  </tbody>\n",
       "</table>\n",
       "</div>"
      ],
      "text/plain": [
       "                test_rmse   fit_time  test_time\n",
       "Algorithm                                      \n",
       "SVD              0.857140  32.749216   6.896137\n",
       "MyOwnAlgorithm   0.983942   0.554503   4.488219"
      ]
     },
     "execution_count": 24,
     "metadata": {},
     "output_type": "execute_result"
    }
   ],
   "source": [
    "#from surprise import *\n",
    "\n",
    "benchmark = []\n",
    "\n",
    "for algorithm in [SVD(), MyOwnAlgorithm()]:\n",
    "    # Perform cross validation\n",
    "    results = cross_validate(algorithm, data, measures=['RMSE'], cv=2, verbose=False)\n",
    "    \n",
    "    # Get results & append algorithm name\n",
    "    tmp = pd.DataFrame.from_dict(results).mean(axis=0)\n",
    "    tmp = tmp.append(pd.Series([str(algorithm).split(' ')[0].split('.')[-1]], index=['Algorithm']))\n",
    "    benchmark.append(tmp)\n",
    "    \n",
    "pd.DataFrame(benchmark).set_index('Algorithm').sort_values('test_rmse') "
   ]
  },
  {
   "cell_type": "markdown",
   "metadata": {},
   "source": [
    "# Link to a dash baord"
   ]
  },
  {
   "cell_type": "code",
   "execution_count": 25,
   "metadata": {
    "gradient": {}
   },
   "outputs": [
    {
     "name": "stdout",
     "output_type": "stream",
     "text": [
      "Requirement already satisfied: sixer in /opt/conda/envs/fastai/lib/python3.8/site-packages (1.6.1)\r\n"
     ]
    }
   ],
   "source": [
    "!pip3 install sixer\n",
    "!conda install -c conda-forge -c plotly jupyter-dash -y"
   ]
  },
  {
   "cell_type": "code",
   "execution_count": 28,
   "metadata": {
    "gradient": {}
   },
   "outputs": [],
   "source": [
    "from jupyter_dash import JupyterDash\n",
    "from IPython.display import display, HTML"
   ]
  },
  {
   "cell_type": "code",
   "execution_count": 33,
   "metadata": {
    "gradient": {},
    "scrolled": true
   },
   "outputs": [
    {
     "data": {
      "text/html": [
       "<b style='color: red'>Please click on <a href='/proxy/8080/' target='_blank'>here</a> to open the dash</b>"
      ],
      "text/plain": [
       "<IPython.core.display.HTML object>"
      ]
     },
     "metadata": {},
     "output_type": "display_data"
    },
    {
     "name": "stderr",
     "output_type": "stream",
     "text": [
      "/opt/conda/envs/fastai/lib/python3.8/site-packages/jupyter_dash/jupyter_app.py:139: UserWarning: The 'environ['werkzeug.server.shutdown']' function is deprecated and will be removed in Werkzeug 2.1.\n",
      "  func()\n"
     ]
    },
    {
     "name": "stdout",
     "output_type": "stream",
     "text": [
      "Dash app running on http://127.0.0.1:8080/proxy/8080/\n"
     ]
    }
   ],
   "source": [
    "import dash    \n",
    "import dash_html_components as html\n",
    "import dash_core_components as dcc\n",
    "\n",
    "import pandas as pd\n",
    "import dash_table\n",
    "\n",
    "from six import iteritems\n",
    "\n",
    "def _uid_to_username(uid):\n",
    "    return trainset.to_raw_uid(uid)\n",
    "\n",
    "external_stylesheets = ['https://codepen.io/chriddyp/pen/bWLwgP.css']\n",
    "proxy_port = 8080\n",
    "\n",
    "_default_userID = 1000\n",
    "_default_un = _uid_to_username(_default_userID)\n",
    "df  = pd.DataFrame(generate_recommendation_top_k(_default_userID, svd, books_metadata))\n",
    "\n",
    "#Make data for drop down\n",
    "options_data = []\n",
    "for (raw, inner ) in iteritems(trainset._raw2inner_id_users):\n",
    "    options_data.append({ 'label': raw , 'value' : inner })\n",
    "    \n",
    "\n",
    "#app = dash.Dash(__name__, external_stylesheets=external_stylesheets)\n",
    "app = JupyterDash(__name__, \n",
    "                  external_stylesheets=external_stylesheets,\n",
    "                  requests_pathname_prefix='/proxy/' + str(proxy_port) + '/')\n",
    "\n",
    "dropdown = html.Div([\n",
    "    dcc.Dropdown(\n",
    "        id='demo-dropdown',\n",
    "        options=options_data,\n",
    "        value=_default_userID\n",
    "    ),\n",
    "    html.Div(id='dd-output-container', children='Book recommendations for user {}'.format(_default_un))\n",
    "])\n",
    "\n",
    "\n",
    "table = dash_table.DataTable(\n",
    "    id='table',\n",
    "    columns=[{\"name\": i, \"id\": i} for i in df.columns],\n",
    "    data=df.to_dict('records'),\n",
    ")\n",
    "\n",
    "app.layout = html.Div([dropdown, table])\n",
    "\n",
    "\n",
    "@app.callback(\n",
    "    [dash.dependencies.Output('dd-output-container', 'children'), dash.dependencies.Output(\"table\", \"data\")],\n",
    "    [dash.dependencies.Input('demo-dropdown', 'value')])\n",
    "def update_output(value):\n",
    "    df  = pd.DataFrame(generate_recommendation_top_k(int(value), svd, books_metadata))\n",
    "    _un = _uid_to_username(value)\n",
    "    return 'Book recommendations for user {}'.format(_un), df.to_dict('records')\n",
    "\n",
    "#Magic Js \n",
    "js = \"<b style='color: red'>Please click on <a href='/proxy/\" + str(proxy_port) + \"/' target='_blank'>here</a> to open the dash</b>\"\n",
    "display(HTML(js))\n",
    "\n",
    "srv = app.run_server(debug=True, use_reloader=False, port=proxy_port)\n",
    "srv"
   ]
  },
  {
   "cell_type": "code",
   "execution_count": null,
   "metadata": {
    "gradient": {}
   },
   "outputs": [
    {
     "name": "stdout",
     "output_type": "stream",
     "text": [
      "https://nbnt35tkym.clg07azjl.paperspacegradient.com/proxy/80/\n"
     ]
    }
   ],
   "source": [
    "\n",
    "\n",
    "#not work\n",
    "## This is a sharable version of the link (for Paperspace)\n",
    "#import os\n",
    "#nid = os.environ['PAPERSPACE_NOTEBOOK_ID']\n",
    "#cid = os.environ['PAPERSPACE_CLUSTER_ID']\n",
    "#print('https://'+nid+'.'+cid+'.paperspacegradient.com/proxy/80/')"
   ]
  },
  {
   "cell_type": "markdown",
   "metadata": {},
   "source": [
    "# References\n",
    "https://towardsdatascience.com/how-you-can-build-simple-recommender-systems-with-surprise-b0d32a8e4802 \\\n",
    "https://www.kaggle.com/zygmunt/goodbooks-10k \\\n",
    "https://surprise.readthedocs.io/en/stable/prediction_algorithms_package.html \\\n",
    "https://surprise.readthedocs.io/en/stable/building_custom_algo.html"
   ]
  }
 ],
 "metadata": {
  "kernelspec": {
   "display_name": "Python 3",
   "language": "python",
   "name": "python3"
  },
  "language_info": {
   "codemirror_mode": {
    "name": "ipython",
    "version": 3
   },
   "file_extension": ".py",
   "mimetype": "text/x-python",
   "name": "python",
   "nbconvert_exporter": "python",
   "pygments_lexer": "ipython3",
   "version": "3.8.6"
  }
 },
 "nbformat": 4,
 "nbformat_minor": 4
}
